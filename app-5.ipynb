{
 "cells": [
  {
   "cell_type": "code",
   "execution_count": 6,
   "id": "d853424c-64a6-4c9e-83c3-19896db03e35",
   "metadata": {},
   "outputs": [
    {
     "name": "stdout",
     "output_type": "stream",
     "text": [
      "[{'month': '2015-01-01', 'total': 13.5}, {'month': '2015-02-01', 'total': 22.0}, {'month': '2015-03-01', 'total': 5.1}, {'month': '2015-04-01', 'total': 25.8}, {'month': '2015-05-01', 'total': 300.0}, {'month': '2015-06-01', 'total': 19.0}, {'month': '2015-07-01', 'total': 225.0}, {'month': '2015-08-01', 'total': 629.6}, {'month': '2015-09-01', 'total': 192.0}, {'month': '2015-10-01', 'total': 31.0}, {'month': '2015-11-01', 'total': 4.5}, {'month': '2015-12-01', 'total': 13.5}, {'month': '2016-01-01', 'total': 170.9}, {'month': '2016-02-01', 'total': 38.0}, {'month': '2016-03-01', 'total': 96.5}, {'month': '2016-04-01', 'total': 146.0}, {'month': '2016-05-01', 'total': 87.3}, {'month': '2016-06-01', 'total': 376.5}, {'month': '2016-07-01', 'total': 374.0}, {'month': '2016-08-01', 'total': 91.5}, {'month': '2016-09-01', 'total': 1220.3}, {'month': '2016-10-01', 'total': 69.0}, {'month': '2016-11-01', 'total': 48.9}, {'month': '2016-12-01', 'total': 2.0}, {'month': '2017-01-01', 'total': 0.0}, {'month': '2017-02-01', 'total': 1.0}, {'month': '2017-03-01', 'total': 12.8}, {'month': '2017-04-01', 'total': 64.5}, {'month': '2017-05-01', 'total': 79.5}, {'month': '2017-06-01', 'total': 251.5}, {'month': '2017-07-01', 'total': 506.9}, {'month': '2017-08-01', 'total': 196.5}, {'month': '2017-09-01', 'total': 39.5}, {'month': '2017-10-01', 'total': 39.5}, {'month': '2017-11-01', 'total': 1.5}, {'month': '2017-12-01', 'total': 2.0}, {'month': '2018-01-01', 'total': 40.0}, {'month': '2018-02-01', 'total': 11.5}, {'month': '2018-03-01', 'total': 19.0}, {'month': '2018-04-01', 'total': 0.5}, {'month': '2018-05-01', 'total': 83.9}, {'month': '2018-06-01', 'total': 555.5}, {'month': '2018-07-01', 'total': 406.0}, {'month': '2018-08-01', 'total': 1301.0}, {'month': '2018-09-01', 'total': 31.0}, {'month': '2018-10-01', 'total': 0.5}, {'month': '2018-11-01', 'total': 1.0}, {'month': '2018-12-01', 'total': 0.0}, {'month': '2019-01-01', 'total': 0.0}, {'month': '2019-02-01', 'total': 1.5}, {'month': '2019-03-01', 'total': 74.5}, {'month': '2019-04-01', 'total': 88.0}, {'month': '2019-05-01', 'total': 168.0}, {'month': '2019-06-01', 'total': 273.5}, {'month': '2019-07-01', 'total': 573.0}, {'month': '2019-08-01', 'total': 758.0}, {'month': '2019-09-01', 'total': 180.0}, {'month': '2019-10-01', 'total': 0.0}, {'month': '2019-11-01', 'total': 0.0}, {'month': '2019-12-01', 'total': 60.7}, {'month': '2020-01-01', 'total': 27.5}, {'month': '2020-02-01', 'total': 1.5}, {'month': '2020-03-01', 'total': 29.5}, {'month': '2020-04-01', 'total': 23.0}, {'month': '2020-05-01', 'total': 470.5}, {'month': '2020-06-01', 'total': 58.5}, {'month': '2020-07-01', 'total': 141.0}, {'month': '2020-08-01', 'total': 663.5}, {'month': '2020-09-01', 'total': 56.3}, {'month': '2020-10-01', 'total': 1.0}, {'month': '2020-11-01', 'total': 52.0}, {'month': '2020-12-01', 'total': 6.0}, {'month': '2021-01-01', 'total': 2.5}, {'month': '2021-02-01', 'total': 13.5}, {'month': '2021-03-01', 'total': 5.0}, {'month': '2021-04-01', 'total': 20.0}, {'month': '2021-05-01', 'total': 79.5}, {'month': '2021-06-01', 'total': 793.0}, {'month': '2021-07-01', 'total': 458.0}, {'month': '2021-08-01', 'total': 713.0}, {'month': '2021-09-01', 'total': 115.0}, {'month': '2021-10-01', 'total': 24.0}, {'month': '2021-11-01', 'total': 6.5}, {'month': '2021-12-01', 'total': 11.5}, {'month': '2022-01-01', 'total': 40.5}, {'month': '2022-02-01', 'total': 51.0}, {'month': '2022-03-01', 'total': 27.0}, {'month': '2022-04-01', 'total': 6.0}, {'month': '2022-05-01', 'total': 223.0}, {'month': '2022-06-01', 'total': 154.0}, {'month': '2022-07-01', 'total': 165.0}, {'month': '2022-08-01', 'total': 297.5}, {'month': '2022-09-01', 'total': 25.5}, {'month': '2022-10-01', 'total': 3.5}, {'month': '2022-11-01', 'total': 1.0}, {'month': '2022-12-01', 'total': 7.0}, {'month': '2023-01-01', 'total': 0.5}, {'month': '2023-02-01', 'total': 0.0}, {'month': '2023-03-01', 'total': 0.0}, {'month': '2023-04-01', 'total': 1.0}, {'month': '2023-05-01', 'total': 28.5}, {'month': '2023-06-01', 'total': 179.5}, {'month': '2023-07-01', 'total': 264.0}, {'month': '2023-08-01', 'total': 410.0}, {'month': '2023-09-01', 'total': 394.0}, {'month': '2023-10-01', 'total': 17.0}, {'month': '2023-11-01', 'total': 0.0}, {'month': '2023-12-01', 'total': 15.0}]\n"
     ]
    }
   ],
   "source": [
    "import xml.etree.ElementTree as ET\n",
    "files=['dy_Report_2015.xml','dy_Report_2016.xml','dy_Report_2017.xml','dy_Report_2018.xml','dy_Report_2019.xml','dy_Report_2020.xml','dy_Report_2021.xml','dy_Report_2022.xml','dy_Report_2023.xml']\n",
    "\n",
    "# 初始化一個列表來存儲提取的數據\n",
    "data_list = []\n",
    "\n",
    "for f in files:\n",
    "    # 讀取 XML 文件\n",
    "    file_path = f\n",
    "    tree = ET.parse(file_path)\n",
    "    root = tree.getroot()\n",
    "    \n",
    "    \n",
    "    ns = {'ns': 'urn:cwa:gov:tw:cwacommon:0.1'}\n",
    "    \n",
    "    for item in root.findall('.//ns:location', ns):\n",
    "        station = item.find('ns:station', ns)\n",
    "        stationName = station.find('ns:StationName', ns).text\n",
    "        if stationName == '臺南':\n",
    "            monthly=item.findall('.//ns:monthly', ns)\n",
    "            for m in monthly:\n",
    "                yearmonth=m.find('ns:YearMonth', ns).text+'-01'\n",
    "                total=m.find('ns:Total', ns).text\n",
    "                if total=='T':\n",
    "                    total=0\n",
    "                data_list.append({'month': yearmonth, 'total': float(total)})\n",
    "\n",
    "# 打印提取的數據\n",
    "print(data_list)\n",
    "\n"
   ]
  },
  {
   "cell_type": "code",
   "execution_count": 7,
   "id": "e7b92107-5dc7-45b2-9b2a-806d40c8fc99",
   "metadata": {},
   "outputs": [
    {
     "name": "stdout",
     "output_type": "stream",
     "text": [
      "                 month  total\n",
      "date                         \n",
      "2015-01-01  2015-01-01   13.5\n",
      "2015-02-01  2015-02-01   22.0\n",
      "2015-03-01  2015-03-01    5.1\n",
      "2015-04-01  2015-04-01   25.8\n",
      "2015-05-01  2015-05-01  300.0\n"
     ]
    }
   ],
   "source": [
    "import pandas as pd\n",
    "\n",
    "# 將清單轉換為 DataFrame\n",
    "df = pd.DataFrame(data_list)\n",
    "\n",
    "# 將日期列轉換為 datetime 類型\n",
    "df['date'] = pd.to_datetime(df['month'])\n",
    "\n",
    "# 設置日期為索引\n",
    "df.set_index('date', inplace=True)\n",
    "\n",
    "# 按日期排序\n",
    "df.sort_index(inplace=True)\n",
    "\n",
    "# 檢查數據\n",
    "print(df.head())\n",
    "\n"
   ]
  },
  {
   "cell_type": "code",
   "execution_count": 9,
   "id": "964470fe-e765-4511-9747-e7fc063f857e",
   "metadata": {},
   "outputs": [],
   "source": [
    "from sklearn.preprocessing import MinMaxScaler\n",
    "import numpy as np\n",
    "\n",
    "# 將降雨量縮放到 [0, 1] 範圍\n",
    "scaler = MinMaxScaler(feature_range=(0, 1))\n",
    "scaled_data = scaler.fit_transform(df[['total']].values)\n",
    "\n",
    "# 創建時間序列數據集\n",
    "def create_dataset(data, time_step=1):\n",
    "    X, y = [], []\n",
    "    for i in range(len(data) - time_step - 1):\n",
    "        X.append(data[i:(i + time_step), 0])\n",
    "        y.append(data[i + time_step, 0])\n",
    "    return np.array(X), np.array(y)\n",
    "\n",
    "time_step = 30  # 使用過去 30 天的數據來預測未來的降雨量\n",
    "X, y = create_dataset(scaled_data, time_step)\n",
    "\n",
    "# 將數據重塑為 [samples, time steps, features]\n",
    "X = X.reshape((X.shape[0], X.shape[1], 1))\n"
   ]
  },
  {
   "cell_type": "code",
   "execution_count": 10,
   "id": "725c17a2-e474-4bfd-a660-4c6d236d6627",
   "metadata": {},
   "outputs": [
    {
     "name": "stderr",
     "output_type": "stream",
     "text": [
      "C:\\Users\\pwang\\anaconda3\\Lib\\site-packages\\keras\\src\\layers\\rnn\\rnn.py:204: UserWarning: Do not pass an `input_shape`/`input_dim` argument to a layer. When using Sequential models, prefer using an `Input(shape)` object as the first layer in the model instead.\n",
      "  super().__init__(**kwargs)\n"
     ]
    },
    {
     "name": "stdout",
     "output_type": "stream",
     "text": [
      "Epoch 1/20\n",
      "\u001b[1m3/3\u001b[0m \u001b[32m━━━━━━━━━━━━━━━━━━━━\u001b[0m\u001b[37m\u001b[0m \u001b[1m10s\u001b[0m 47ms/step - loss: 0.0494\n",
      "Epoch 2/20\n",
      "\u001b[1m3/3\u001b[0m \u001b[32m━━━━━━━━━━━━━━━━━━━━\u001b[0m\u001b[37m\u001b[0m \u001b[1m0s\u001b[0m 34ms/step - loss: 0.0384\n",
      "Epoch 3/20\n",
      "\u001b[1m3/3\u001b[0m \u001b[32m━━━━━━━━━━━━━━━━━━━━\u001b[0m\u001b[37m\u001b[0m \u001b[1m0s\u001b[0m 42ms/step - loss: 0.0342\n",
      "Epoch 4/20\n",
      "\u001b[1m3/3\u001b[0m \u001b[32m━━━━━━━━━━━━━━━━━━━━\u001b[0m\u001b[37m\u001b[0m \u001b[1m0s\u001b[0m 44ms/step - loss: 0.0379\n",
      "Epoch 5/20\n",
      "\u001b[1m3/3\u001b[0m \u001b[32m━━━━━━━━━━━━━━━━━━━━\u001b[0m\u001b[37m\u001b[0m \u001b[1m0s\u001b[0m 33ms/step - loss: 0.0413\n",
      "Epoch 6/20\n",
      "\u001b[1m3/3\u001b[0m \u001b[32m━━━━━━━━━━━━━━━━━━━━\u001b[0m\u001b[37m\u001b[0m \u001b[1m0s\u001b[0m 39ms/step - loss: 0.0333\n",
      "Epoch 7/20\n",
      "\u001b[1m3/3\u001b[0m \u001b[32m━━━━━━━━━━━━━━━━━━━━\u001b[0m\u001b[37m\u001b[0m \u001b[1m0s\u001b[0m 44ms/step - loss: 0.0263\n",
      "Epoch 8/20\n",
      "\u001b[1m3/3\u001b[0m \u001b[32m━━━━━━━━━━━━━━━━━━━━\u001b[0m\u001b[37m\u001b[0m \u001b[1m0s\u001b[0m 33ms/step - loss: 0.0344\n",
      "Epoch 9/20\n",
      "\u001b[1m3/3\u001b[0m \u001b[32m━━━━━━━━━━━━━━━━━━━━\u001b[0m\u001b[37m\u001b[0m \u001b[1m0s\u001b[0m 37ms/step - loss: 0.0272\n",
      "Epoch 10/20\n",
      "\u001b[1m3/3\u001b[0m \u001b[32m━━━━━━━━━━━━━━━━━━━━\u001b[0m\u001b[37m\u001b[0m \u001b[1m0s\u001b[0m 36ms/step - loss: 0.0369\n",
      "Epoch 11/20\n",
      "\u001b[1m3/3\u001b[0m \u001b[32m━━━━━━━━━━━━━━━━━━━━\u001b[0m\u001b[37m\u001b[0m \u001b[1m0s\u001b[0m 40ms/step - loss: 0.0303\n",
      "Epoch 12/20\n",
      "\u001b[1m3/3\u001b[0m \u001b[32m━━━━━━━━━━━━━━━━━━━━\u001b[0m\u001b[37m\u001b[0m \u001b[1m0s\u001b[0m 33ms/step - loss: 0.0374\n",
      "Epoch 13/20\n",
      "\u001b[1m3/3\u001b[0m \u001b[32m━━━━━━━━━━━━━━━━━━━━\u001b[0m\u001b[37m\u001b[0m \u001b[1m0s\u001b[0m 41ms/step - loss: 0.0296\n",
      "Epoch 14/20\n",
      "\u001b[1m3/3\u001b[0m \u001b[32m━━━━━━━━━━━━━━━━━━━━\u001b[0m\u001b[37m\u001b[0m \u001b[1m0s\u001b[0m 36ms/step - loss: 0.0338\n",
      "Epoch 15/20\n",
      "\u001b[1m3/3\u001b[0m \u001b[32m━━━━━━━━━━━━━━━━━━━━\u001b[0m\u001b[37m\u001b[0m \u001b[1m0s\u001b[0m 33ms/step - loss: 0.0307\n",
      "Epoch 16/20\n",
      "\u001b[1m3/3\u001b[0m \u001b[32m━━━━━━━━━━━━━━━━━━━━\u001b[0m\u001b[37m\u001b[0m \u001b[1m0s\u001b[0m 33ms/step - loss: 0.0319\n",
      "Epoch 17/20\n",
      "\u001b[1m3/3\u001b[0m \u001b[32m━━━━━━━━━━━━━━━━━━━━\u001b[0m\u001b[37m\u001b[0m \u001b[1m0s\u001b[0m 33ms/step - loss: 0.0372\n",
      "Epoch 18/20\n",
      "\u001b[1m3/3\u001b[0m \u001b[32m━━━━━━━━━━━━━━━━━━━━\u001b[0m\u001b[37m\u001b[0m \u001b[1m0s\u001b[0m 38ms/step - loss: 0.0309\n",
      "Epoch 19/20\n",
      "\u001b[1m3/3\u001b[0m \u001b[32m━━━━━━━━━━━━━━━━━━━━\u001b[0m\u001b[37m\u001b[0m \u001b[1m0s\u001b[0m 36ms/step - loss: 0.0307\n",
      "Epoch 20/20\n",
      "\u001b[1m3/3\u001b[0m \u001b[32m━━━━━━━━━━━━━━━━━━━━\u001b[0m\u001b[37m\u001b[0m \u001b[1m0s\u001b[0m 32ms/step - loss: 0.0257\n"
     ]
    },
    {
     "data": {
      "text/plain": [
       "<keras.src.callbacks.history.History at 0x1ae96565150>"
      ]
     },
     "execution_count": 10,
     "metadata": {},
     "output_type": "execute_result"
    }
   ],
   "source": [
    "from tensorflow.keras.models import Sequential\n",
    "from tensorflow.keras.layers import LSTM, Dense\n",
    "\n",
    "# 建構 LSTM 模型\n",
    "model = Sequential()\n",
    "model.add(LSTM(units=50, return_sequences=True, input_shape=(X.shape[1], 1)))\n",
    "model.add(LSTM(units=50))\n",
    "model.add(Dense(1))\n",
    "\n",
    "model.compile(optimizer='adam', loss='mean_squared_error')\n",
    "\n",
    "# 訓練模型\n",
    "model.fit(X, y, epochs=20, batch_size=32)\n"
   ]
  },
  {
   "cell_type": "code",
   "execution_count": null,
   "id": "9b6a8793-7dca-455a-aa6e-78c7e12eeebf",
   "metadata": {},
   "outputs": [],
   "source": []
  },
  {
   "cell_type": "code",
   "execution_count": 11,
   "id": "3369b186-57bd-41c6-a4b3-5dafcb80371c",
   "metadata": {},
   "outputs": [
    {
     "name": "stdout",
     "output_type": "stream",
     "text": [
      "\u001b[1m1/1\u001b[0m \u001b[32m━━━━━━━━━━━━━━━━━━━━\u001b[0m\u001b[37m\u001b[0m \u001b[1m1s\u001b[0m 781ms/step\n",
      "Predicted Rainfall: 109.09745025634766\n"
     ]
    }
   ],
   "source": [
    "# 假設你有最新的 30 天的降雨數據\n",
    "recent_data = np.array(df.iloc[-30:,1])\n",
    "recent_data = scaler.transform(recent_data.reshape(-1, 1))\n",
    "recent_data = recent_data.reshape((1, time_step, 1))\n",
    "\n",
    "# 預測未來一天的降雨量\n",
    "predicted_rainfall = model.predict(recent_data)\n",
    "predicted_rainfall = scaler.inverse_transform(predicted_rainfall)\n",
    "print(f'Predicted Rainfall: {predicted_rainfall[0][0]}')\n"
   ]
  },
  {
   "cell_type": "code",
   "execution_count": null,
   "id": "e6d34e26-7d16-4f52-a90e-aa1ab15bcf87",
   "metadata": {},
   "outputs": [],
   "source": []
  }
 ],
 "metadata": {
  "kernelspec": {
   "display_name": "Python 3 (ipykernel)",
   "language": "python",
   "name": "python3"
  },
  "language_info": {
   "codemirror_mode": {
    "name": "ipython",
    "version": 3
   },
   "file_extension": ".py",
   "mimetype": "text/x-python",
   "name": "python",
   "nbconvert_exporter": "python",
   "pygments_lexer": "ipython3",
   "version": "3.11.7"
  }
 },
 "nbformat": 4,
 "nbformat_minor": 5
}
